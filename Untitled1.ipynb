{
 "cells": [
  {
   "cell_type": "code",
   "execution_count": 1,
   "id": "9ff06aef",
   "metadata": {},
   "outputs": [
    {
     "data": {
      "application/vnd.jupyter.widget-view+json": {
       "model_id": "b03632f288a440188d9304b922a6c0e8",
       "version_major": 2,
       "version_minor": 0
      },
      "text/plain": [
       "Canvas(toolbar=Toolbar(toolitems=[('Home', 'Reset original view', 'home', 'home'), ('Back', 'Back to previous …"
      ]
     },
     "metadata": {},
     "output_type": "display_data"
    }
   ],
   "source": [
    "%matplotlib widget\n",
    "import matplotlib.pyplot as plt\n",
    "import numpy as np\n",
    "from numpy import random\n",
    "\n",
    "figs, ax = plt.subplots(facecolor=(0.53,0.52,0.45))\n",
    "figs.canvas.toolbar_visible = False\n",
    "figs.canvas.header_visible  = False\n",
    "figs.canvas.footer_visible  = False\n",
    "figs.set_size_inches(32.45/2.54, 16/2.54, forward=True)\n",
    "plt.axis('equal')\n",
    "plt.xticks([])\n",
    "plt.yticks([])\n",
    "ax.set(xlim=(0, 100), ylim=(0, 50))\n",
    "ax.patch.set_facecolor('black')\n",
    "\n",
    "X = np.zeros((50,100), dtype=int)\n",
    "def onclick(event):\n",
    "    \n",
    "    if event.button == 1 or event.button == 2 or event.button == 3: \n",
    "        X[round(event.ydata),round(event.xdata)] = 1\n",
    "        ax.spy(X, markersize=4)\n",
    "        ax.set(xlim=(0, 100), ylim=(0, 50))\n",
    "        plt.xticks([])\n",
    "        plt.yticks([])\n",
    "\n",
    "f_mouse = figs.canvas.mpl_connect('motion_notify_event', onclick);"
   ]
  }
 ],
 "metadata": {
  "kernelspec": {
   "display_name": "Python 3 (ipykernel)",
   "language": "python",
   "name": "python3"
  },
  "language_info": {
   "codemirror_mode": {
    "name": "ipython",
    "version": 3
   },
   "file_extension": ".py",
   "mimetype": "text/x-python",
   "name": "python",
   "nbconvert_exporter": "python",
   "pygments_lexer": "ipython3",
   "version": "3.8.5"
  }
 },
 "nbformat": 4,
 "nbformat_minor": 5
}
